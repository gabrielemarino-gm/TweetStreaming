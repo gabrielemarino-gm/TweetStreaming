{
 "cells": [
  {
   "cell_type": "code",
   "execution_count": 4,
   "id": "00cbe15b",
   "metadata": {},
   "outputs": [
    {
     "name": "stdout",
     "output_type": "stream",
     "text": [
      "Tweet 0\n"
     ]
    }
   ],
   "source": [
    "# Author: Gabriele Marino\n",
    "\n",
    "import snscrape.modules.twitter as sntwitter\n",
    "import json\n",
    "# import csv\n",
    "\n",
    "# In the variable 'query' we need to describe topic, hashtag, date and other argument for search the target Tweets \n",
    "# Format: \n",
    "# (hashTags1 hashTags2 ... hashTagsN) lang:language until:start_date since:end_date\n",
    "query = \"Indicare la ricerca\"\n",
    "tweets = []\n",
    "limit = 10000\n",
    "filePath = 'Indicare il file JSON dove salvare i tweet'\n",
    "\n",
    "\n",
    "def initializate_json():\n",
    "    with open(filePath, mode='w', encoding='utf-8') as f:\n",
    "        json.dump([], f)\n",
    "\n",
    "\n",
    "def write_json(newEntry):\n",
    "    with open(filePath, \"w\") as f:\n",
    "        json.dump(newEntry, f, indent=4)\n",
    "\n",
    "\n",
    "initializate_json()\n",
    "i = 0\n",
    "\n",
    "for tweet in sntwitter.TwitterSearchScraper(query).get_items():\n",
    "    \n",
    "    if i == limit:\n",
    "        break\n",
    "    else:\n",
    "        tweetMsg = {\n",
    "            \"statusId\":tweet.id, \n",
    "            \"userId\": tweet.user.id, \n",
    "            \"text\":tweet.content, \n",
    "            \"timestamp\":tweet.date.strftime(\"%Y-%m-%d %H:%M:%S\"), \n",
    "            \"favoriteCount\":tweet.likeCount, \n",
    "            \"Latitude\":0, \n",
    "            \"Longitude\":0, \n",
    "            \"lang\":tweet.lang, \n",
    "            \"place\":tweet.user.location, \n",
    "            \"retweetCount\":tweet.retweetCount, \n",
    "            \"msgType\":0\n",
    "        }\n",
    "        \n",
    "        # Append all the tweets in a JSON file\n",
    "        with open(filePath) as json_file:\n",
    "            data = json.load(json_file)\n",
    "            temp = data\n",
    "            temp.append(tweetMsg)\n",
    "\n",
    "        write_json(data)\n",
    "        if i%1000 == 0:\n",
    "            print(\"Tweet catturati: \" + str(i))\n",
    "        i = i + 1      \n",
    "        \n",
    "        # For Write in a CSV file \n",
    "        # with open(csvPath, 'a', encoding='UTF8', newline='') as file:\n",
    "        #         tsv_writer = csv.writer(file, delimiter=\"\\t\")\n",
    "        #         tsv_writer.writerow([tweet.id, tweet.user.id, tweet.content, tweet.date, tweet.likeCount, 0, 0, tweet.lang, tweet.user.location, tweet.retweetCount, 0])"
   ]
  }
 ],
 "metadata": {
  "kernelspec": {
   "display_name": "Python 3 (ipykernel)",
   "language": "python",
   "name": "python3"
  },
  "language_info": {
   "codemirror_mode": {
    "name": "ipython",
    "version": 3
   },
   "file_extension": ".py",
   "mimetype": "text/x-python",
   "name": "python",
   "nbconvert_exporter": "python",
   "pygments_lexer": "ipython3",
   "version": "3.9.7"
  },
  "vscode": {
   "interpreter": {
    "hash": "4d50e13c0f662cdb2e5bde7b7b6e08ccb352f28afc2d06d71e5b4d0fbf63cd69"
   }
  }
 },
 "nbformat": 4,
 "nbformat_minor": 5
}
